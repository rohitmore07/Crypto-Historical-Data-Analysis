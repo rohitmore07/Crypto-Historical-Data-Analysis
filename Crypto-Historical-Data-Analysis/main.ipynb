{
 "cells": [
  {
   "cell_type": "code",
   "execution_count": 1,
   "id": "53d57bb4",
   "metadata": {},
   "outputs": [],
   "source": [
    "import requests\n",
    "import pandas as pd\n",
    "from sklearn.model_selection import train_test_split\n",
    "from sklearn.ensemble import RandomForestRegressor\n",
    "from sklearn.metrics import mean_absolute_error\n",
    "import joblib"
   ]
  },
  {
   "cell_type": "code",
   "execution_count": null,
   "id": "9c95abe9",
   "metadata": {},
   "outputs": [],
   "source": [
    "def fetch_crypto_data(crypto_pair, api_key):\n",
    "    base_url = \"https://api.coingecko.com/api/v3/coins/{}/market_chart\"\n",
    "    crypto_id = crypto_pair.split('/')[0].lower()\n",
    "    url = base_url.format(crypto_id)\n",
    "    params = {\n",
    "        'vs_currency': crypto_pair.split('/')[1].lower(),\n",
    "        'days': '365',  \n",
    "        'interval': 'daily'\n",
    "    }\n",
    "    headers = {\n",
    "        'x_cg_demo_api_key': api_key  \n",
    "    }\n",
    "\n",
    "    response = requests.get(url, params=params, headers=headers)\n",
    "    data = response.json()\n",
    "\n",
    "    if 'prices' not in data:\n",
    "        print(\"Error: 'prices' key not found in the response.\")\n",
    "        print(\"Full response:\", data)\n",
    "        return pd.DataFrame()  \n",
    "\n",
    "    prices = data['prices']\n",
    "    df = pd.DataFrame(prices, columns=['Date', 'Close'])\n",
    "    df['Date'] = pd.to_datetime(df['Date'], unit='ms')\n",
    "    df['Open'] = df['Close'].shift(1)\n",
    "    df['High'] = df['Close'].rolling(window=1).max()\n",
    "    df['Low'] = df['Close'].rolling(window=1).min()\n",
    "    df = df.dropna()\n",
    "\n",
    "    return df"
   ]
  },
  {
   "cell_type": "code",
   "execution_count": 3,
   "id": "04476549",
   "metadata": {},
   "outputs": [],
   "source": [
    "def calculate_metrics(data, variable1, variable2):\n",
    "    data = data.sort_values(by='Date')\n",
    "\n",
    "    data[f'High_Last_{variable1}_Days'] = data['High'].rolling(window=variable1).max()\n",
    "    data[f'Days_Since_High_Last_{variable1}_Days'] = (data['Date'] - data['Date'].shift(variable1)).dt.days\n",
    "    data[f'%_Diff_From_High_Last_{variable1}_Days'] = (data['Close'] - data[f'High_Last_{variable1}_Days']) / data[f'High_Last_{variable1}_Days'] * 100\n",
    "\n",
    "    data[f'Low_Last_{variable1}_Days'] = data['Low'].rolling(window=variable1).min()\n",
    "    data[f'Days_Since_Low_Last_{variable1}_Days'] = (data['Date'] - data['Date'].shift(variable1)).dt.days\n",
    "    data[f'%_Diff_From_Low_Last_{variable1}_Days'] = (data['Close'] - data[f'Low_Last_{variable1}_Days']) / data[f'Low_Last_{variable1}_Days'] * 100\n",
    "\n",
    "    data[f'High_Next_{variable2}_Days'] = data['High'].shift(-variable2).rolling(window=variable2).max()\n",
    "    data[f'%_Diff_From_High_Next_{variable2}_Days'] = (data['Close'] - data[f'High_Next_{variable2}_Days']) / data[f'High_Next_{variable2}_Days'] * 100\n",
    "\n",
    "    data[f'Low_Next_{variable2}_Days'] = data['Low'].shift(-variable2).rolling(window=variable2).min()\n",
    "    data[f'%_Diff_From_Low_Next_{variable2}_Days'] = (data['Close'] - data[f'Low_Next_{variable2}_Days']) / data[f'Low_Next_{variable2}_Days'] * 100\n",
    "\n",
    "    data = data.dropna()\n",
    "\n",
    "    return data"
   ]
  },
  {
   "cell_type": "code",
   "execution_count": 4,
   "id": "3b3e3df2",
   "metadata": {},
   "outputs": [],
   "source": [
    "def train_model(X, y_high, y_low):\n",
    "    X_train, X_test, y_high_train, y_high_test, y_low_train, y_low_test = train_test_split(\n",
    "        X, y_high, y_low, test_size=0.2, random_state=42\n",
    "    )\n",
    "\n",
    "    model_high = RandomForestRegressor(n_estimators=100, random_state=42)\n",
    "    model_low = RandomForestRegressor(n_estimators=100, random_state=42)\n",
    "\n",
    "    model_high.fit(X_train, y_high_train)\n",
    "    model_low.fit(X_train, y_low_train)\n",
    "\n",
    "    y_high_pred = model_high.predict(X_test)\n",
    "    y_low_pred = model_low.predict(X_test)\n",
    "\n",
    "    high_mae = mean_absolute_error(y_high_test, y_high_pred)\n",
    "    low_mae = mean_absolute_error(y_low_test, y_low_pred)\n",
    "\n",
    "    print(f'Mean Absolute Error for High: {high_mae}')\n",
    "    print(f'Mean Absolute Error for Low: {low_mae}')\n",
    "\n",
    "    joblib.dump(model_high, 'model_high.pkl')\n",
    "    joblib.dump(model_low, 'model_low.pkl')\n",
    "\n",
    "    return model_high, model_low"
   ]
  },
  {
   "cell_type": "code",
   "execution_count": null,
   "id": "0503b4b7",
   "metadata": {},
   "outputs": [],
   "source": [
    "def predict_outcomes(model_high, model_low, input_features):\n",
    "    model_high = joblib.load('model_high.pkl')\n",
    "    model_low = joblib.load('model_low.pkl')\n",
    "\n",
    "    high_pred = model_high.predict([input_features])\n",
    "    low_pred = model_low.predict([input_features])\n",
    "\n",
    "    return high_pred[0], low_pred[0]\n"
   ]
  },
  {
   "cell_type": "code",
   "execution_count": null,
   "id": "48411e1d",
   "metadata": {},
   "outputs": [
    {
     "name": "stdout",
     "output_type": "stream",
     "text": [
      "Fetched Data:\n",
      "        Date         Close          Open          High           Low\n",
      "1 2023-11-04  34731.381369  34924.055450  34731.381369  34731.381369\n",
      "2 2023-11-05  35048.407835  34731.381369  35048.407835  35048.407835\n",
      "3 2023-11-06  35061.928749  35048.407835  35061.928749  35061.928749\n",
      "4 2023-11-07  35031.268882  35061.928749  35031.268882  35031.268882\n",
      "5 2023-11-08  35436.537630  35031.268882  35436.537630  35436.537630\n",
      "Metrics DataFrame Columns:\n",
      "Index(['Date', 'Close', 'Open', 'High', 'Low', 'High_Last_7_Days',\n",
      "       'Days_Since_High_Last_7_Days', '%_Diff_From_High_Last_7_Days',\n",
      "       'Low_Last_7_Days', 'Days_Since_Low_Last_7_Days',\n",
      "       '%_Diff_From_Low_Last_7_Days', 'High_Next_5_Days',\n",
      "       '%_Diff_From_High_Next_5_Days', 'Low_Next_5_Days',\n",
      "       '%_Diff_From_Low_Next_5_Days'],\n",
      "      dtype='object')\n"
     ]
    }
   ],
   "source": [
    "api_key = 'CG-jwaGUjTXLRyZRYwvERN9hNJT'  \n",
    "crypto_pair = \"bitcoin/usd\"\n",
    "\n",
    "df = fetch_crypto_data(crypto_pair, api_key)\n",
    "\n",
    "if df.empty:\n",
    "    print(\"Failed to fetch data.\")\n",
    "else:\n",
    "    print(\"Fetched Data:\")\n",
    "    print(df.head())  \n",
    "\n",
    "    variable1 = 7\n",
    "    variable2 = 5\n",
    "\n",
    "    metrics_df = calculate_metrics(df, variable1, variable2)\n",
    "\n",
    "    print(\"Metrics DataFrame Columns:\")\n",
    "    print(metrics_df.columns)\n"
   ]
  },
  {
   "cell_type": "code",
   "execution_count": null,
   "id": "1446c846",
   "metadata": {},
   "outputs": [
    {
     "name": "stdout",
     "output_type": "stream",
     "text": [
      "Data and metrics saved to crypto_data.xlsx.\n"
     ]
    }
   ],
   "source": [
    "with pd.ExcelWriter(\"C:/Users/DELL/Desktop/crypto_data.xlsx\") as writer:\n",
    "      df.to_excel(writer, sheet_name='Raw Data', index=False)\n",
    "      metrics_df.to_excel(writer, sheet_name='Metrics Data', index=False)\n",
    "\n",
    "print(\"Data and metrics saved to crypto_data.xlsx.\")"
   ]
  },
  {
   "cell_type": "code",
   "execution_count": null,
   "id": "715ef4ab",
   "metadata": {},
   "outputs": [
    {
     "name": "stdout",
     "output_type": "stream",
     "text": [
      "Mean Absolute Error for High: 3.4168248718842222\n",
      "Mean Absolute Error for Low: 3.714318605770346\n",
      "Predicted % Diff From High Next 5 Days: -2.543785494598555\n",
      "Predicted % Diff From Low Next 5 Days: 3.136294445808237\n"
     ]
    },
    {
     "name": "stderr",
     "output_type": "stream",
     "text": [
      "C:\\Users\\DELL\\anaconda3\\Lib\\site-packages\\sklearn\\base.py:464: UserWarning: X does not have valid feature names, but RandomForestRegressor was fitted with feature names\n",
      "  warnings.warn(\n",
      "C:\\Users\\DELL\\anaconda3\\Lib\\site-packages\\sklearn\\base.py:464: UserWarning: X does not have valid feature names, but RandomForestRegressor was fitted with feature names\n",
      "  warnings.warn(\n"
     ]
    }
   ],
   "source": [
    "features = [\n",
    "    f'Days_Since_High_Last_{variable1}_Days',\n",
    "    f'%_Diff_From_High_Last_{variable1}_Days',\n",
    "    f'Days_Since_Low_Last_{variable1}_Days',\n",
    "    f'%_Diff_From_Low_Last_{variable1}_Days'\n",
    "]\n",
    "\n",
    "target_high = f'%_Diff_From_High_Next_{variable2}_Days'\n",
    "target_low = f'%_Diff_From_Low_Next_{variable2}_Days'\n",
    "\n",
    "if not metrics_df.empty and target_high in metrics_df.columns and target_low in metrics_df.columns:\n",
    "    X = metrics_df[features]\n",
    "    y_high = metrics_df[target_high]\n",
    "    y_low = metrics_df[target_low]\n",
    "\n",
    "    if not (y_high.isna().any() or y_low.isna().any()):\n",
    "        model_high, model_low = train_model(X, y_high, y_low)\n",
    "\n",
    "        input_features = [1, -0.90, 7, 4.76]\n",
    "        high_pred, low_pred = predict_outcomes(model_high, model_low, input_features)\n",
    "        print(f'Predicted % Diff From High Next {variable2} Days: {high_pred}')\n",
    "        print(f'Predicted % Diff From Low Next {variable2} Days: {low_pred}')\n"
   ]
  },
  {
   "cell_type": "code",
   "execution_count": null,
   "id": "7114f15a",
   "metadata": {},
   "outputs": [],
   "source": []
  }
 ],
 "metadata": {
  "kernelspec": {
   "display_name": "Python 3 (ipykernel)",
   "language": "python",
   "name": "python3"
  },
  "language_info": {
   "codemirror_mode": {
    "name": "ipython",
    "version": 3
   },
   "file_extension": ".py",
   "mimetype": "text/x-python",
   "name": "python",
   "nbconvert_exporter": "python",
   "pygments_lexer": "ipython3",
   "version": "3.11.5"
  }
 },
 "nbformat": 4,
 "nbformat_minor": 5
}
